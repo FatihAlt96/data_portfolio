{
  "nbformat": 4,
  "nbformat_minor": 0,
  "metadata": {
    "colab": {
      "name": "hw3_Fatih.ipynb",
      "provenance": [],
      "collapsed_sections": []
    },
    "kernelspec": {
      "name": "python3",
      "display_name": "Python 3"
    }
  },
  "cells": [
    {
      "cell_type": "markdown",
      "metadata": {
        "id": "TDirfzLpeL9j"
      },
      "source": [
        "# Preprocessing and feature engineering"
      ]
    },
    {
      "cell_type": "code",
      "metadata": {
        "id": "8iVrtgNQ6A5y"
      },
      "source": [
        "import pandas as pd\n",
        "import numpy as np\n",
        "from google.colab import drive\n",
        "from numpy import inf"
      ],
      "execution_count": 1,
      "outputs": []
    },
    {
      "cell_type": "code",
      "metadata": {
        "id": "d6wwOUeh5qgU",
        "colab": {
          "base_uri": "https://localhost:8080/"
        },
        "outputId": "f1cd8868-4b78-4f19-a003-f6cccd96af92"
      },
      "source": [
        "drive.mount('/content/drive')"
      ],
      "execution_count": 2,
      "outputs": [
        {
          "output_type": "stream",
          "text": [
            "Mounted at /content/drive\n"
          ],
          "name": "stdout"
        }
      ]
    },
    {
      "cell_type": "code",
      "metadata": {
        "id": "gQK7oRs96fDf"
      },
      "source": [
        "df=pd.read_csv('/content/drive/My Drive/HW3/train.csv',sep='|')\n",
        "test=pd.read_csv('/content/drive/My Drive/HW3/test.csv',sep='|')\n",
        "test_true=pd.read_csv('/content/drive/My Drive/HW3/test_real.csv',sep='|')"
      ],
      "execution_count": 3,
      "outputs": []
    },
    {
      "cell_type": "code",
      "metadata": {
        "colab": {
          "base_uri": "https://localhost:8080/",
          "height": 224
        },
        "id": "lc9Kofvz0Cwp",
        "outputId": "737dba17-7013-4eae-8ca8-7bcb67b7bc6a"
      },
      "source": [
        "df.head()"
      ],
      "execution_count": 4,
      "outputs": [
        {
          "output_type": "execute_result",
          "data": {
            "text/html": [
              "<div>\n",
              "<style scoped>\n",
              "    .dataframe tbody tr th:only-of-type {\n",
              "        vertical-align: middle;\n",
              "    }\n",
              "\n",
              "    .dataframe tbody tr th {\n",
              "        vertical-align: top;\n",
              "    }\n",
              "\n",
              "    .dataframe thead th {\n",
              "        text-align: right;\n",
              "    }\n",
              "</style>\n",
              "<table border=\"1\" class=\"dataframe\">\n",
              "  <thead>\n",
              "    <tr style=\"text-align: right;\">\n",
              "      <th></th>\n",
              "      <th>trustLevel</th>\n",
              "      <th>totalScanTimeInSeconds</th>\n",
              "      <th>grandTotal</th>\n",
              "      <th>lineItemVoids</th>\n",
              "      <th>scansWithoutRegistration</th>\n",
              "      <th>quantityModifications</th>\n",
              "      <th>scannedLineItemsPerSecond</th>\n",
              "      <th>valuePerSecond</th>\n",
              "      <th>lineItemVoidsPerPosition</th>\n",
              "      <th>fraud</th>\n",
              "    </tr>\n",
              "  </thead>\n",
              "  <tbody>\n",
              "    <tr>\n",
              "      <th>0</th>\n",
              "      <td>5</td>\n",
              "      <td>1054</td>\n",
              "      <td>54.70</td>\n",
              "      <td>7</td>\n",
              "      <td>0</td>\n",
              "      <td>3</td>\n",
              "      <td>0.027514</td>\n",
              "      <td>0.051898</td>\n",
              "      <td>0.241379</td>\n",
              "      <td>0</td>\n",
              "    </tr>\n",
              "    <tr>\n",
              "      <th>1</th>\n",
              "      <td>3</td>\n",
              "      <td>108</td>\n",
              "      <td>27.36</td>\n",
              "      <td>5</td>\n",
              "      <td>2</td>\n",
              "      <td>4</td>\n",
              "      <td>0.129630</td>\n",
              "      <td>0.253333</td>\n",
              "      <td>0.357143</td>\n",
              "      <td>0</td>\n",
              "    </tr>\n",
              "    <tr>\n",
              "      <th>2</th>\n",
              "      <td>3</td>\n",
              "      <td>1516</td>\n",
              "      <td>62.16</td>\n",
              "      <td>3</td>\n",
              "      <td>10</td>\n",
              "      <td>5</td>\n",
              "      <td>0.008575</td>\n",
              "      <td>0.041003</td>\n",
              "      <td>0.230769</td>\n",
              "      <td>0</td>\n",
              "    </tr>\n",
              "    <tr>\n",
              "      <th>3</th>\n",
              "      <td>6</td>\n",
              "      <td>1791</td>\n",
              "      <td>92.31</td>\n",
              "      <td>8</td>\n",
              "      <td>4</td>\n",
              "      <td>4</td>\n",
              "      <td>0.016192</td>\n",
              "      <td>0.051541</td>\n",
              "      <td>0.275862</td>\n",
              "      <td>0</td>\n",
              "    </tr>\n",
              "    <tr>\n",
              "      <th>4</th>\n",
              "      <td>5</td>\n",
              "      <td>430</td>\n",
              "      <td>81.53</td>\n",
              "      <td>3</td>\n",
              "      <td>7</td>\n",
              "      <td>2</td>\n",
              "      <td>0.062791</td>\n",
              "      <td>0.189605</td>\n",
              "      <td>0.111111</td>\n",
              "      <td>0</td>\n",
              "    </tr>\n",
              "  </tbody>\n",
              "</table>\n",
              "</div>"
            ],
            "text/plain": [
              "   trustLevel  totalScanTimeInSeconds  ...  lineItemVoidsPerPosition  fraud\n",
              "0           5                    1054  ...                  0.241379      0\n",
              "1           3                     108  ...                  0.357143      0\n",
              "2           3                    1516  ...                  0.230769      0\n",
              "3           6                    1791  ...                  0.275862      0\n",
              "4           5                     430  ...                  0.111111      0\n",
              "\n",
              "[5 rows x 10 columns]"
            ]
          },
          "metadata": {
            "tags": []
          },
          "execution_count": 4
        }
      ]
    },
    {
      "cell_type": "code",
      "metadata": {
        "colab": {
          "base_uri": "https://localhost:8080/"
        },
        "id": "5psER7CY0Mu1",
        "outputId": "f0b95af2-d7a9-4bb6-c063-6902c94f0d57"
      },
      "source": [
        "df.info() #no missing values"
      ],
      "execution_count": 5,
      "outputs": [
        {
          "output_type": "stream",
          "text": [
            "<class 'pandas.core.frame.DataFrame'>\n",
            "RangeIndex: 1879 entries, 0 to 1878\n",
            "Data columns (total 10 columns):\n",
            " #   Column                     Non-Null Count  Dtype  \n",
            "---  ------                     --------------  -----  \n",
            " 0   trustLevel                 1879 non-null   int64  \n",
            " 1   totalScanTimeInSeconds     1879 non-null   int64  \n",
            " 2   grandTotal                 1879 non-null   float64\n",
            " 3   lineItemVoids              1879 non-null   int64  \n",
            " 4   scansWithoutRegistration   1879 non-null   int64  \n",
            " 5   quantityModifications      1879 non-null   int64  \n",
            " 6   scannedLineItemsPerSecond  1879 non-null   float64\n",
            " 7   valuePerSecond             1879 non-null   float64\n",
            " 8   lineItemVoidsPerPosition   1879 non-null   float64\n",
            " 9   fraud                      1879 non-null   int64  \n",
            "dtypes: float64(4), int64(6)\n",
            "memory usage: 146.9 KB\n"
          ],
          "name": "stdout"
        }
      ]
    },
    {
      "cell_type": "code",
      "metadata": {
        "id": "_SFlnYdw61Ow"
      },
      "source": [
        "y=df['fraud']\n",
        "X=df.drop(columns='fraud')"
      ],
      "execution_count": null,
      "outputs": []
    },
    {
      "cell_type": "markdown",
      "metadata": {
        "id": "i-4TLBs1FdCx"
      },
      "source": [
        "1. Number of items: This is an important feature because the customers could think, that if they have a lot of items in their shopping cart, it would be less obvious to not scan a few of these items.  \n",
        "\n",
        "\n",
        "2. Total scans-no registration ratio: This could be an indication for fraud if there is an unsual ratio of attempted scans, which could be done to pretend to scan an item."
      ]
    },
    {
      "cell_type": "code",
      "metadata": {
        "id": "T_oaJV2rvgvi"
      },
      "source": [
        "from numpy import NaN"
      ],
      "execution_count": null,
      "outputs": []
    },
    {
      "cell_type": "code",
      "metadata": {
        "id": "hHlV5L5VfNcJ"
      },
      "source": [
        "X['number of items'] = X['totalScanTimeInSeconds']*X['scannedLineItemsPerSecond'] \n",
        "\n",
        "X['items scanned-void ratio'] = X['number of items'] / X['lineItemVoids']\n",
        "X['items scanned-void ratio'] = X ['items scanned-void ratio'].apply(lambda x: 50 if x==inf else x)  # The largest number in this column, beside inf, is 30 so we relplace the inf with\n",
        "                                                                                                   # a number, which is larger than 30, but also not too large to distort the data.\n",
        "\n",
        "X['items scanned-no registration ratio'] = X['number of items'] / X['scansWithoutRegistration']\n",
        "X['items scanned-no registration ratio'] = X['items scanned-no registration ratio'].apply(lambda x: 50 if x==inf else x) # same as above\n",
        "\n",
        "X['grandTotal-no registration ratio'] =  X['grandTotal'] / X['scansWithoutRegistration'] \n",
        "X['grandTotal-no registration ratio'] = X['grandTotal-no registration ratio'].apply(lambda x: 0 if x=='NaN' else ( 100 if x==inf else x)) \n",
        "# the Na values are a in the rows, where zero was divided by zero, so setting these as zero seems reasonable "
      ],
      "execution_count": null,
      "outputs": []
    },
    {
      "cell_type": "code",
      "metadata": {
        "id": "WIL_7Yhikj7p"
      },
      "source": [
        "test['number of items'] = test['totalScanTimeInSeconds']*test['scannedLineItemsPerSecond']\n",
        "\n",
        "test['items scanned-void ratio'] = test['number of items'] / test['lineItemVoids']\n",
        "test['items scanned-void ratio'] = test['items scanned-void ratio'].apply(lambda x: 50 if x==inf else x)\n",
        "\n",
        "test['items scanned-no registration ratio'] = test['number of items'] / test['scansWithoutRegistration']\n",
        "test['items scanned-no registration ratio'] = test['items scanned-no registration ratio'].apply(lambda x: 50 if x==inf else x)\n",
        "\n",
        "\n",
        "\n",
        "test['grandTotal-no registration ratio'] = test['grandTotal'] / test['scansWithoutRegistration']\n",
        "test['grandTotal-no registration ratio'] = test['grandTotal-no registration ratio'].apply(lambda x: 0 if x==NaN else ( 100 if x==inf else x))"
      ],
      "execution_count": null,
      "outputs": []
    },
    {
      "cell_type": "code",
      "metadata": {
        "id": "IWIYmpvde1M4"
      },
      "source": [
        "from sklearn import preprocessing   # scaling the data for better results\n",
        "\n",
        "\n",
        "min_max_scaler = preprocessing.MinMaxScaler()\n",
        "\n",
        "x = X\n",
        "x_scaled = min_max_scaler.fit_transform(x)\n",
        "X = pd.DataFrame(x_scaled,columns=X.columns)\n",
        "\n",
        "test_1 = test\n",
        "test_scaled = min_max_scaler.fit_transform(test_1)\n",
        "test = pd.DataFrame(test_scaled,columns=test.columns)"
      ],
      "execution_count": null,
      "outputs": []
    },
    {
      "cell_type": "code",
      "metadata": {
        "id": "0bYUj-Q8vMBK"
      },
      "source": [
        "test['grandTotal-no registration ratio']=test['grandTotal-no registration ratio'].fillna(0)"
      ],
      "execution_count": null,
      "outputs": []
    },
    {
      "cell_type": "markdown",
      "metadata": {
        "id": "i3EHtjule2A0"
      },
      "source": [
        "# Training classifiers"
      ]
    },
    {
      "cell_type": "code",
      "metadata": {
        "id": "MhaFvvI6gU1_"
      },
      "source": [
        "from sklearn.model_selection import train_test_split, GridSearchCV\n",
        "from sklearn.ensemble import RandomForestClassifier\n",
        "from sklearn.metrics import roc_auc_score \n",
        "from matplotlib import pyplot as plt\n",
        "from sklearn.svm import SVC\n",
        "from skopt import BayesSearchCV"
      ],
      "execution_count": null,
      "outputs": []
    },
    {
      "cell_type": "code",
      "metadata": {
        "id": "ynNZota-bAtn"
      },
      "source": [
        "X_train,X_test,y_train,y_test = train_test_split(X,y,stratify=y,test_size=0.25)"
      ],
      "execution_count": null,
      "outputs": []
    },
    {
      "cell_type": "code",
      "metadata": {
        "id": "EIRkp3SIg8gq"
      },
      "source": [
        "rf = RandomForestClassifier(max_depth=4,n_estimators=375,max_features=7,criterion='entropy',class_weight='balanced',min_samples_leaf=4)\n",
        "\n",
        "# I got these hyperparameters by manualy trying different values, gridsearch gave me values which lead to overfitting my training data and a low test score."
      ],
      "execution_count": null,
      "outputs": []
    },
    {
      "cell_type": "code",
      "metadata": {
        "id": "rD28HLcXhU2Q",
        "colab": {
          "base_uri": "https://localhost:8080/"
        },
        "outputId": "f350127d-102a-44bb-89f4-89370ab43b0b"
      },
      "source": [
        "rf.fit(X_train,y_train)"
      ],
      "execution_count": null,
      "outputs": [
        {
          "output_type": "execute_result",
          "data": {
            "text/plain": [
              "RandomForestClassifier(bootstrap=True, ccp_alpha=0.0, class_weight='balanced',\n",
              "                       criterion='entropy', max_depth=4, max_features=7,\n",
              "                       max_leaf_nodes=None, max_samples=None,\n",
              "                       min_impurity_decrease=0.0, min_impurity_split=None,\n",
              "                       min_samples_leaf=4, min_samples_split=2,\n",
              "                       min_weight_fraction_leaf=0.0, n_estimators=375,\n",
              "                       n_jobs=None, oob_score=False, random_state=None,\n",
              "                       verbose=0, warm_start=False)"
            ]
          },
          "metadata": {
            "tags": []
          },
          "execution_count": 1617
        }
      ]
    },
    {
      "cell_type": "code",
      "metadata": {
        "id": "qzpChTXzhhYM",
        "colab": {
          "base_uri": "https://localhost:8080/"
        },
        "outputId": "d3789cc9-727d-4515-ab4d-6002198c80fd"
      },
      "source": [
        "y_pred = rf.predict(X_test)\n",
        "y_pred_train = rf.predict(X_train)\n",
        "print('RandomForest roc_auc test score:', roc_auc_score(y_test,y_pred))\n",
        "print('RandomForest roc_auc train score:' ,roc_auc_score(y_train,y_pred_train))"
      ],
      "execution_count": null,
      "outputs": [
        {
          "output_type": "stream",
          "text": [
            "RandomForest roc_auc test score: 0.937976437976438\n",
            "RandomForest roc_auc train score: 0.964312546957175\n"
          ],
          "name": "stdout"
        }
      ]
    },
    {
      "cell_type": "code",
      "metadata": {
        "id": "vOz1yERByFDa"
      },
      "source": [
        "X_svm=X.drop(columns = 'grandTotal-no registration ratio')        # the svm works better without this column \n",
        "test_svm=test.drop(columns = 'grandTotal-no registration ratio')"
      ],
      "execution_count": null,
      "outputs": []
    },
    {
      "cell_type": "code",
      "metadata": {
        "id": "g8qQYuPYyQnO"
      },
      "source": [
        "X_train2,X_test2,y_train2,y_test2 = train_test_split(X_svm,y,stratify=y,test_size=0.25)"
      ],
      "execution_count": null,
      "outputs": []
    },
    {
      "cell_type": "code",
      "metadata": {
        "id": "ipqGHWJme9DV",
        "colab": {
          "base_uri": "https://localhost:8080/"
        },
        "outputId": "ef3252c2-65dd-40a4-be05-f2ae25175808"
      },
      "source": [
        "svm=SVC(C = 55,gamma = 0.03, probability = True,class_weight = 'balanced')\n",
        "svm.fit(X_train2,y_train2)"
      ],
      "execution_count": null,
      "outputs": [
        {
          "output_type": "execute_result",
          "data": {
            "text/plain": [
              "SVC(C=55, break_ties=False, cache_size=200, class_weight='balanced', coef0=0.0,\n",
              "    decision_function_shape='ovr', degree=3, gamma=0.03, kernel='rbf',\n",
              "    max_iter=-1, probability=True, random_state=None, shrinking=True, tol=0.001,\n",
              "    verbose=False)"
            ]
          },
          "metadata": {
            "tags": []
          },
          "execution_count": 1621
        }
      ]
    },
    {
      "cell_type": "code",
      "metadata": {
        "id": "qp4OC0WThKx2"
      },
      "source": [
        "params={'gamma':[0.02,0.03,0.05,0.1,],'C':[45,50,55,60]}  # this is only the last itteration of using gridsearch, i narrowed down the parameters to these values\n",
        "\n",
        "grid=GridSearchCV(svm,params,'roc_auc',cv=5)"
      ],
      "execution_count": null,
      "outputs": []
    },
    {
      "cell_type": "code",
      "metadata": {
        "id": "tXbG5ukVhqB6",
        "colab": {
          "base_uri": "https://localhost:8080/"
        },
        "outputId": "fad3af7a-1165-4ccc-f1bd-7da5940e07ed"
      },
      "source": [
        "grid.fit(X_train2,y_train2)"
      ],
      "execution_count": null,
      "outputs": [
        {
          "output_type": "execute_result",
          "data": {
            "text/plain": [
              "GridSearchCV(cv=5, error_score=nan,\n",
              "             estimator=SVC(C=55, break_ties=False, cache_size=200,\n",
              "                           class_weight='balanced', coef0=0.0,\n",
              "                           decision_function_shape='ovr', degree=3, gamma=0.03,\n",
              "                           kernel='rbf', max_iter=-1, probability=True,\n",
              "                           random_state=None, shrinking=True, tol=0.001,\n",
              "                           verbose=False),\n",
              "             iid='deprecated', n_jobs=None,\n",
              "             param_grid={'C': [45, 50, 55, 60],\n",
              "                         'gamma': [0.02, 0.03, 0.05, 0.1]},\n",
              "             pre_dispatch='2*n_jobs', refit=True, return_train_score=False,\n",
              "             scoring='roc_auc', verbose=0)"
            ]
          },
          "metadata": {
            "tags": []
          },
          "execution_count": 1623
        }
      ]
    },
    {
      "cell_type": "code",
      "metadata": {
        "id": "rhtuu5ZEhuYm",
        "colab": {
          "base_uri": "https://localhost:8080/"
        },
        "outputId": "db564a9d-1acf-4298-f6ad-c67147cd54c5"
      },
      "source": [
        "grid.best_params_"
      ],
      "execution_count": null,
      "outputs": [
        {
          "output_type": "execute_result",
          "data": {
            "text/plain": [
              "{'C': 55, 'gamma': 0.1}"
            ]
          },
          "metadata": {
            "tags": []
          },
          "execution_count": 1624
        }
      ]
    },
    {
      "cell_type": "code",
      "metadata": {
        "colab": {
          "base_uri": "https://localhost:8080/"
        },
        "id": "yetak6HWfGJ2",
        "outputId": "0ea0907b-3156-41a5-f4e5-71162723f967"
      },
      "source": [
        "y_pred=svm.predict(X_test2)\n",
        "y_pred_train=svm.predict(X_train2)\n",
        "print('SVM roc-auc test score:',roc_auc_score(y_test2,y_pred))\n",
        "print('SVM roc-auc train score:',roc_auc_score(y_train2,y_pred_train))"
      ],
      "execution_count": null,
      "outputs": [
        {
          "output_type": "stream",
          "text": [
            "SVM roc-auc test score: 0.9898648648648648\n",
            "SVM roc-auc train score: 0.9834710743801653\n"
          ],
          "name": "stdout"
        }
      ]
    },
    {
      "cell_type": "code",
      "metadata": {
        "id": "06np5Pqvjngd"
      },
      "source": [
        "from sklearn.ensemble import AdaBoostClassifier\n",
        "from sklearn.tree import  DecisionTreeClassifier"
      ],
      "execution_count": null,
      "outputs": []
    },
    {
      "cell_type": "code",
      "metadata": {
        "id": "6b774Qt8j0zI"
      },
      "source": [
        "ada=AdaBoostClassifier(learning_rate=1.1,n_estimators=550)"
      ],
      "execution_count": null,
      "outputs": []
    },
    {
      "cell_type": "code",
      "metadata": {
        "colab": {
          "base_uri": "https://localhost:8080/"
        },
        "id": "Ze4XCTsSj6xK",
        "outputId": "81945d81-ddfe-4c6a-9525-009df0685c68"
      },
      "source": [
        "ada.fit(X_train,y_train)\n",
        "y_pred_ada=ada.predict(X_test)\n",
        "print(roc_auc_score(y_test,y_pred_ada))\n"
      ],
      "execution_count": null,
      "outputs": [
        {
          "output_type": "stream",
          "text": [
            "0.9581600831600832\n"
          ],
          "name": "stdout"
        }
      ]
    },
    {
      "cell_type": "markdown",
      "metadata": {
        "id": "I5JLTGeMfC56"
      },
      "source": [
        "# Evaluation"
      ]
    },
    {
      "cell_type": "code",
      "metadata": {
        "colab": {
          "base_uri": "https://localhost:8080/"
        },
        "id": "ikJiyGTkmq7v",
        "outputId": "68a92588-6a90-4d2d-fb56-c4ae4499803f"
      },
      "source": [
        "svm.fit(X_svm,y)    # i used an ensemble of three different classifiers so that if one model makes a mistake,\n",
        "                    # that prediction will will be outweighed by the other two  \n",
        "rf.fit(X,y)\n",
        "ada.fit(X,y)"
      ],
      "execution_count": null,
      "outputs": [
        {
          "output_type": "execute_result",
          "data": {
            "text/plain": [
              "AdaBoostClassifier(algorithm='SAMME.R', base_estimator=None, learning_rate=1.1,\n",
              "                   n_estimators=550, random_state=None)"
            ]
          },
          "metadata": {
            "tags": []
          },
          "execution_count": 1629
        }
      ]
    },
    {
      "cell_type": "code",
      "metadata": {
        "id": "OUFonrGUmHVe"
      },
      "source": [
        "svm_prob=svm.predict_proba(test_svm)\n",
        "rf_proba=rf.predict_proba(test)\n",
        "ada_proba=ada.predict_proba(test)"
      ],
      "execution_count": null,
      "outputs": []
    },
    {
      "cell_type": "code",
      "metadata": {
        "id": "2aa_Kn5ombVE"
      },
      "source": [
        "mean=(ada_proba+svm_prob+rf_proba)/3  "
      ],
      "execution_count": null,
      "outputs": []
    },
    {
      "cell_type": "code",
      "metadata": {
        "id": "ardoVKP9CviQ"
      },
      "source": [
        "from numpy import around"
      ],
      "execution_count": null,
      "outputs": []
    },
    {
      "cell_type": "code",
      "metadata": {
        "id": "tFEGT5fwBfwC"
      },
      "source": [
        "mean_rounded=around(mean[:,1])"
      ],
      "execution_count": null,
      "outputs": []
    },
    {
      "cell_type": "code",
      "metadata": {
        "colab": {
          "base_uri": "https://localhost:8080/"
        },
        "id": "vF-U1Zxtm2SI",
        "outputId": "40fac260-efbf-4747-af59-73bdebbe25c1"
      },
      "source": [
        "roc_auc_score(test_true,mean_rounded)"
      ],
      "execution_count": null,
      "outputs": [
        {
          "output_type": "execute_result",
          "data": {
            "text/plain": [
              "0.9782312685255157"
            ]
          },
          "metadata": {
            "tags": []
          },
          "execution_count": 1634
        }
      ]
    },
    {
      "cell_type": "code",
      "metadata": {
        "id": "-UK0jTcilIS9"
      },
      "source": [
        "from sklearn.metrics import confusion_matrix\n"
      ],
      "execution_count": null,
      "outputs": []
    },
    {
      "cell_type": "code",
      "metadata": {
        "colab": {
          "base_uri": "https://localhost:8080/"
        },
        "id": "69txonnjnhQA",
        "outputId": "2eec1ce7-4f04-4006-80a1-956e949351f0"
      },
      "source": [
        "confusion_matrix(test_true,mean_rounded)"
      ],
      "execution_count": null,
      "outputs": [
        {
          "output_type": "execute_result",
          "data": {
            "text/plain": [
              "array([[470275,   4119],\n",
              "       [   827,  22900]])"
            ]
          },
          "metadata": {
            "tags": []
          },
          "execution_count": 1636
        }
      ]
    },
    {
      "cell_type": "markdown",
      "metadata": {
        "id": "Yj2InDzr627b"
      },
      "source": [
        "According to the ROC-AUC score the model is quite good, but this is misleading. Looking at the confusion matrix we see, even though the model finds more than 97% of the fraudulent customers, we also accuse a bit less than 1% of the honest customers. Over time this could lead to a bad reputation of the store and a loss in customers. This could be fixed by lowering the decision boundary by a few percents, but this would increase the fals negatives and also lower the ROC AUC score. "
      ]
    }
  ]
}